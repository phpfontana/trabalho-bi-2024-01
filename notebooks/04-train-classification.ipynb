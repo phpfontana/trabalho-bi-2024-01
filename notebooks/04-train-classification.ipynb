{
 "cells": [
  {
   "cell_type": "code",
   "execution_count": 2,
   "metadata": {},
   "outputs": [],
   "source": [
    "from sklearn.model_selection import train_test_split\n",
    "from sklearn.preprocessing import StandardScaler, LabelEncoder\n",
    "from sklearn.decomposition import PCA\n",
    "from sklearn.ensemble import RandomForestClassifier\n",
    "from sklearn.neighbors import KNeighborsClassifier\n",
    "from sklearn.metrics import classification_report\n",
    "    \n",
    "import pandas as pd\n",
    "import matplotlib.pyplot as plt\n",
    "import numpy as np\n",
    "import seaborn as sns\n",
    "\n",
    "from pandas import DataFrame\n",
    "from fastapi import HTTPException\n",
    "from typing import List, Any, Dict\n"
   ]
  },
  {
   "cell_type": "code",
   "execution_count": 37,
   "metadata": {},
   "outputs": [],
   "source": [
    "# load the dataset\n",
    "path = '../data/processed/FD001'\n",
    "\n",
    "df = pd.read_csv(path)"
   ]
  },
  {
   "cell_type": "code",
   "execution_count": 38,
   "metadata": {},
   "outputs": [
    {
     "data": {
      "text/html": [
       "<div>\n",
       "<style scoped>\n",
       "    .dataframe tbody tr th:only-of-type {\n",
       "        vertical-align: middle;\n",
       "    }\n",
       "\n",
       "    .dataframe tbody tr th {\n",
       "        vertical-align: top;\n",
       "    }\n",
       "\n",
       "    .dataframe thead th {\n",
       "        text-align: right;\n",
       "    }\n",
       "</style>\n",
       "<table border=\"1\" class=\"dataframe\">\n",
       "  <thead>\n",
       "    <tr style=\"text-align: right;\">\n",
       "      <th></th>\n",
       "      <th>Unit</th>\n",
       "      <th>Cycle</th>\n",
       "      <th>sensor_2</th>\n",
       "      <th>sensor_3</th>\n",
       "      <th>sensor_4</th>\n",
       "      <th>sensor_7</th>\n",
       "      <th>sensor_8</th>\n",
       "      <th>sensor_9</th>\n",
       "      <th>sensor_11</th>\n",
       "      <th>sensor_12</th>\n",
       "      <th>...</th>\n",
       "      <th>sensor_11_rolling_std</th>\n",
       "      <th>sensor_12_rolling_std</th>\n",
       "      <th>sensor_13_rolling_std</th>\n",
       "      <th>sensor_14_rolling_std</th>\n",
       "      <th>sensor_15_rolling_std</th>\n",
       "      <th>sensor_17_rolling_std</th>\n",
       "      <th>sensor_20_rolling_std</th>\n",
       "      <th>sensor_21_rolling_std</th>\n",
       "      <th>RUL</th>\n",
       "      <th>RUL_class</th>\n",
       "    </tr>\n",
       "  </thead>\n",
       "  <tbody>\n",
       "    <tr>\n",
       "      <th>0</th>\n",
       "      <td>1</td>\n",
       "      <td>10</td>\n",
       "      <td>641.71</td>\n",
       "      <td>1591.24</td>\n",
       "      <td>1400.46</td>\n",
       "      <td>553.59</td>\n",
       "      <td>2388.05</td>\n",
       "      <td>9051.70</td>\n",
       "      <td>47.03</td>\n",
       "      <td>521.79</td>\n",
       "      <td>...</td>\n",
       "      <td>0.144207</td>\n",
       "      <td>0.400949</td>\n",
       "      <td>0.020111</td>\n",
       "      <td>3.333946</td>\n",
       "      <td>0.022654</td>\n",
       "      <td>0.918937</td>\n",
       "      <td>0.070111</td>\n",
       "      <td>0.044857</td>\n",
       "      <td>182</td>\n",
       "      <td>medium</td>\n",
       "    </tr>\n",
       "    <tr>\n",
       "      <th>1</th>\n",
       "      <td>1</td>\n",
       "      <td>11</td>\n",
       "      <td>642.28</td>\n",
       "      <td>1581.75</td>\n",
       "      <td>1400.64</td>\n",
       "      <td>554.54</td>\n",
       "      <td>2388.05</td>\n",
       "      <td>9049.61</td>\n",
       "      <td>47.15</td>\n",
       "      <td>521.40</td>\n",
       "      <td>...</td>\n",
       "      <td>0.130213</td>\n",
       "      <td>0.442267</td>\n",
       "      <td>0.021628</td>\n",
       "      <td>3.779342</td>\n",
       "      <td>0.023876</td>\n",
       "      <td>0.918937</td>\n",
       "      <td>0.065794</td>\n",
       "      <td>0.052522</td>\n",
       "      <td>181</td>\n",
       "      <td>medium</td>\n",
       "    </tr>\n",
       "    <tr>\n",
       "      <th>2</th>\n",
       "      <td>1</td>\n",
       "      <td>12</td>\n",
       "      <td>642.06</td>\n",
       "      <td>1583.41</td>\n",
       "      <td>1400.15</td>\n",
       "      <td>554.52</td>\n",
       "      <td>2388.09</td>\n",
       "      <td>9049.37</td>\n",
       "      <td>47.18</td>\n",
       "      <td>521.80</td>\n",
       "      <td>...</td>\n",
       "      <td>0.096661</td>\n",
       "      <td>0.448969</td>\n",
       "      <td>0.020440</td>\n",
       "      <td>3.804252</td>\n",
       "      <td>0.023000</td>\n",
       "      <td>0.948683</td>\n",
       "      <td>0.071149</td>\n",
       "      <td>0.052264</td>\n",
       "      <td>180</td>\n",
       "      <td>medium</td>\n",
       "    </tr>\n",
       "    <tr>\n",
       "      <th>3</th>\n",
       "      <td>1</td>\n",
       "      <td>13</td>\n",
       "      <td>643.07</td>\n",
       "      <td>1582.19</td>\n",
       "      <td>1400.83</td>\n",
       "      <td>553.44</td>\n",
       "      <td>2388.12</td>\n",
       "      <td>9046.82</td>\n",
       "      <td>47.38</td>\n",
       "      <td>521.85</td>\n",
       "      <td>...</td>\n",
       "      <td>0.109747</td>\n",
       "      <td>0.435871</td>\n",
       "      <td>0.024060</td>\n",
       "      <td>4.061997</td>\n",
       "      <td>0.022867</td>\n",
       "      <td>0.816497</td>\n",
       "      <td>0.072296</td>\n",
       "      <td>0.062411</td>\n",
       "      <td>179</td>\n",
       "      <td>medium</td>\n",
       "    </tr>\n",
       "    <tr>\n",
       "      <th>4</th>\n",
       "      <td>1</td>\n",
       "      <td>14</td>\n",
       "      <td>642.35</td>\n",
       "      <td>1592.95</td>\n",
       "      <td>1399.16</td>\n",
       "      <td>554.48</td>\n",
       "      <td>2388.09</td>\n",
       "      <td>9047.37</td>\n",
       "      <td>47.44</td>\n",
       "      <td>521.67</td>\n",
       "      <td>...</td>\n",
       "      <td>0.124316</td>\n",
       "      <td>0.328843</td>\n",
       "      <td>0.023688</td>\n",
       "      <td>4.093274</td>\n",
       "      <td>0.019155</td>\n",
       "      <td>0.875595</td>\n",
       "      <td>0.088468</td>\n",
       "      <td>0.062331</td>\n",
       "      <td>178</td>\n",
       "      <td>medium</td>\n",
       "    </tr>\n",
       "  </tbody>\n",
       "</table>\n",
       "<p>5 rows × 60 columns</p>\n",
       "</div>"
      ],
      "text/plain": [
       "   Unit  Cycle  sensor_2  sensor_3  sensor_4  sensor_7  sensor_8  sensor_9  \\\n",
       "0     1     10    641.71   1591.24   1400.46    553.59   2388.05   9051.70   \n",
       "1     1     11    642.28   1581.75   1400.64    554.54   2388.05   9049.61   \n",
       "2     1     12    642.06   1583.41   1400.15    554.52   2388.09   9049.37   \n",
       "3     1     13    643.07   1582.19   1400.83    553.44   2388.12   9046.82   \n",
       "4     1     14    642.35   1592.95   1399.16    554.48   2388.09   9047.37   \n",
       "\n",
       "   sensor_11  sensor_12  ...  sensor_11_rolling_std  sensor_12_rolling_std  \\\n",
       "0      47.03     521.79  ...               0.144207               0.400949   \n",
       "1      47.15     521.40  ...               0.130213               0.442267   \n",
       "2      47.18     521.80  ...               0.096661               0.448969   \n",
       "3      47.38     521.85  ...               0.109747               0.435871   \n",
       "4      47.44     521.67  ...               0.124316               0.328843   \n",
       "\n",
       "   sensor_13_rolling_std  sensor_14_rolling_std  sensor_15_rolling_std  \\\n",
       "0               0.020111               3.333946               0.022654   \n",
       "1               0.021628               3.779342               0.023876   \n",
       "2               0.020440               3.804252               0.023000   \n",
       "3               0.024060               4.061997               0.022867   \n",
       "4               0.023688               4.093274               0.019155   \n",
       "\n",
       "   sensor_17_rolling_std  sensor_20_rolling_std  sensor_21_rolling_std  RUL  \\\n",
       "0               0.918937               0.070111               0.044857  182   \n",
       "1               0.918937               0.065794               0.052522  181   \n",
       "2               0.948683               0.071149               0.052264  180   \n",
       "3               0.816497               0.072296               0.062411  179   \n",
       "4               0.875595               0.088468               0.062331  178   \n",
       "\n",
       "   RUL_class  \n",
       "0     medium  \n",
       "1     medium  \n",
       "2     medium  \n",
       "3     medium  \n",
       "4     medium  \n",
       "\n",
       "[5 rows x 60 columns]"
      ]
     },
     "execution_count": 38,
     "metadata": {},
     "output_type": "execute_result"
    }
   ],
   "source": [
    "df.head()"
   ]
  },
  {
   "cell_type": "code",
   "execution_count": 39,
   "metadata": {},
   "outputs": [],
   "source": [
    "sensor_names = ['sensor_2', 'sensor_3', 'sensor_4', 'sensor_7',\n",
    "    'sensor_8', 'sensor_9', 'sensor_11', 'sensor_12', 'sensor_13',\n",
    "    'sensor_14', 'sensor_15', 'sensor_17', 'sensor_20', 'sensor_21']\n",
    "\n",
    "df = df.drop(columns=sensor_names)"
   ]
  },
  {
   "cell_type": "code",
   "execution_count": 40,
   "metadata": {},
   "outputs": [
    {
     "name": "stdout",
     "output_type": "stream",
     "text": [
      "Shape of X: (19731, 42)\n",
      "Shape of y: (19731,)\n"
     ]
    }
   ],
   "source": [
    "X = df.drop(['Unit', 'Cycle', 'RUL', 'RUL_class'], axis=1)\n",
    "y = df['RUL_class']\n",
    "\n",
    "print(f\"Shape of X: {X.shape}\")\n",
    "print(f\"Shape of y: {y.shape}\")"
   ]
  },
  {
   "cell_type": "code",
   "execution_count": 41,
   "metadata": {},
   "outputs": [
    {
     "name": "stdout",
     "output_type": "stream",
     "text": [
      "{'long': 0, 'medium': 1, 'short': 2, 'urgent': 3}\n"
     ]
    }
   ],
   "source": [
    "from sklearn.preprocessing import LabelEncoder\n",
    "\n",
    "le = LabelEncoder()\n",
    "\n",
    "y = le.fit_transform(y)\n",
    "\n",
    "le_mapping = dict(zip(le.classes_, le.transform(le.classes_)))\n",
    "\n",
    "print(le_mapping)\n"
   ]
  },
  {
   "cell_type": "code",
   "execution_count": 42,
   "metadata": {},
   "outputs": [
    {
     "name": "stdout",
     "output_type": "stream",
     "text": [
      "Shape of the training set: (15784, 42)\n",
      "Shape of the test set: (3947, 42)\n",
      "Percentage of classes in the training set:\n",
      "class\n",
      "2        0.378294\n",
      "1        0.281298\n",
      "3        0.259883\n",
      "0        0.080525\n",
      "Name: proportion, dtype: float64\n",
      "Percentage of classes in the test set:\n",
      "class\n",
      "2        0.385609\n",
      "1        0.281733\n",
      "3        0.252850\n",
      "0        0.079807\n",
      "Name: proportion, dtype: float64\n"
     ]
    }
   ],
   "source": [
    "from sklearn.model_selection import train_test_split\n",
    "\n",
    "X_train, X_test, y_train, y_test = train_test_split(X, y, test_size=0.2, random_state=42)\n",
    "\n",
    "print(f\"Shape of the training set: {X_train.shape}\")\n",
    "\n",
    "print(f\"Shape of the test set: {X_test.shape}\")\n",
    "\n",
    "print(f\"Percentage of classes in the training set:\")\n",
    "y_train_df = pd.DataFrame(y_train, columns=['class'])\n",
    "print(y_train_df.value_counts(normalize=True))\n",
    "\n",
    "\n",
    "print(f\"Percentage of classes in the test set:\")\n",
    "y_test_df = pd.DataFrame(y_test, columns=['class'])\n",
    "print(y_test_df.value_counts(normalize=True))\n"
   ]
  },
  {
   "cell_type": "code",
   "execution_count": 43,
   "metadata": {},
   "outputs": [],
   "source": [
    "# Save the training and test sets\n",
    "train_df = pd.DataFrame(X_train, columns=X.columns)\n",
    "train_df['RUL_class'] = y_train\n",
    "\n",
    "test_df = pd.DataFrame(X_test, columns=X.columns)\n",
    "test_df['RUL_class'] = y_test\n",
    "\n",
    "train_df.to_csv('../data/production/train.csv', index=False)\n",
    "test_df.to_csv('../data/production/test.csv', index=False)"
   ]
  },
  {
   "cell_type": "code",
   "execution_count": 44,
   "metadata": {},
   "outputs": [],
   "source": [
    "from sklearn.preprocessing import StandardScaler\n",
    "\n",
    "scaler = StandardScaler()\n",
    "\n",
    "scaler.fit(X_train)\n",
    "\n",
    "X_train_scaled = scaler.transform(X_train)\n",
    "X_test_scaled = scaler.transform(X_test)"
   ]
  },
  {
   "cell_type": "code",
   "execution_count": 45,
   "metadata": {},
   "outputs": [
    {
     "name": "stdout",
     "output_type": "stream",
     "text": [
      "Random Forest Classifier\n",
      "              precision    recall  f1-score   support\n",
      "\n",
      "           0       0.99      0.74      0.85       315\n",
      "           1       0.93      0.96      0.94      1112\n",
      "           2       0.91      0.97      0.94      1522\n",
      "           3       0.98      0.92      0.95       998\n",
      "\n",
      "    accuracy                           0.93      3947\n",
      "   macro avg       0.95      0.90      0.92      3947\n",
      "weighted avg       0.94      0.93      0.93      3947\n",
      "\n"
     ]
    }
   ],
   "source": [
    "from sklearn.ensemble import RandomForestClassifier\n",
    "from sklearn.metrics import classification_report\n",
    "\n",
    "rf = RandomForestClassifier(random_state=42)\n",
    "\n",
    "rf.fit(X_train_scaled, y_train)\n",
    "\n",
    "y_pred = rf.predict(X_test_scaled)\n",
    "\n",
    "print('Random Forest Classifier')\n",
    "print(classification_report(y_test, y_pred))"
   ]
  },
  {
   "cell_type": "code",
   "execution_count": 46,
   "metadata": {},
   "outputs": [
    {
     "name": "stdout",
     "output_type": "stream",
     "text": [
      "KNN Classifier\n",
      "              precision    recall  f1-score   support\n",
      "\n",
      "           0       0.95      0.95      0.95       315\n",
      "           1       0.97      0.96      0.96      1112\n",
      "           2       0.96      0.97      0.96      1522\n",
      "           3       0.98      0.97      0.98       998\n",
      "\n",
      "    accuracy                           0.97      3947\n",
      "   macro avg       0.96      0.96      0.96      3947\n",
      "weighted avg       0.97      0.97      0.97      3947\n",
      "\n"
     ]
    }
   ],
   "source": [
    "# Fit a KNN model\n",
    "model = KNeighborsClassifier()\n",
    "\n",
    "# Fit the model\n",
    "model.fit(X_train_scaled, y_train)\n",
    "\n",
    "# Predict the categories\n",
    "y_pred = model.predict(X_test_scaled)\n",
    "\n",
    "# Classification report\n",
    "print(\"KNN Classifier\")\n",
    "print(classification_report(y_test, y_pred))\n"
   ]
  },
  {
   "cell_type": "code",
   "execution_count": 28,
   "metadata": {},
   "outputs": [
    {
     "name": "stdout",
     "output_type": "stream",
     "text": [
      "Models exported successfully\n"
     ]
    }
   ],
   "source": [
    "# Export the model to pickle file\n",
    "import pickle\n",
    "\n",
    "with open('../models/rf_model.pkl', 'wb') as f:\n",
    "    pickle.dump(rf, f)\n",
    "\n",
    "with open('../models/scaler.pkl', 'wb') as f:\n",
    "    pickle.dump(scaler, f)\n",
    "\n",
    "with open('../models/le.pkl', 'wb') as f:\n",
    "    pickle.dump(le, f)\n",
    "\n",
    "with open('../models/knn_model.pkl', 'wb') as f:\n",
    "    pickle.dump(model, f)\n",
    "\n",
    "print(\"Models exported successfully\")"
   ]
  },
  {
   "cell_type": "code",
   "execution_count": null,
   "metadata": {},
   "outputs": [],
   "source": []
  }
 ],
 "metadata": {
  "kernelspec": {
   "display_name": "bi",
   "language": "python",
   "name": "python3"
  },
  "language_info": {
   "codemirror_mode": {
    "name": "ipython",
    "version": 3
   },
   "file_extension": ".py",
   "mimetype": "text/x-python",
   "name": "python",
   "nbconvert_exporter": "python",
   "pygments_lexer": "ipython3",
   "version": "3.10.13"
  }
 },
 "nbformat": 4,
 "nbformat_minor": 2
}
